{
 "cells": [
  {
   "cell_type": "code",
   "execution_count": 1,
   "metadata": {},
   "outputs": [],
   "source": [
    "import os # for file handling\n",
    "import pathlib # for reading files\n",
    "import pandas as pd # for reading csv files\n",
    "import numpy as np # for numerical operations\n",
    "from PIL import Image # for opening images\n",
    "import shutil # for moving files\n",
    "import matplotlib.pyplot as plt # for plotting\n",
    "\n",
    "import tensorflow as tf # for deep learning\n",
    "from tensorflow import keras\n",
    "from tensorflow.keras import layers\n",
    "from tensorflow.keras.models import Sequential\n",
    "from tensorflow.keras.callbacks import EarlyStopping, ModelCheckpoint, ReduceLROnPlateau\n",
    "from tensorflow.keras.metrics import SparseCategoricalAccuracy, Precision, Recall\n",
    "from tensorflow.keras.regularizers import l2"
   ]
  },
  {
   "cell_type": "markdown",
   "metadata": {},
   "source": [
    "Check GPU"
   ]
  },
  {
   "cell_type": "code",
   "execution_count": null,
   "metadata": {},
   "outputs": [],
   "source": [
    "print(\"TensorFlow version:\", tf.__version__)\n",
    "print(\"Num GPUs Available: \", len(tf.config.list_physical_devices('GPU')))\n",
    "print(\"Physical Devices:\", tf.config.list_physical_devices('GPU'))\n",
    "\n",
    "\n",
    "from tensorflow.python.client import device_lib\n",
    "\n",
    "def get_available_devices():\n",
    "    local_device_protos = device_lib.list_local_devices()\n",
    "    return [x.name for x in local_device_protos]\n",
    "\n",
    "print(get_available_devices())"
   ]
  },
  {
   "cell_type": "markdown",
   "metadata": {},
   "source": [
    "## Load Data using Keras utility"
   ]
  },
  {
   "cell_type": "code",
   "execution_count": 2,
   "metadata": {},
   "outputs": [],
   "source": [
    "data_dir = pathlib.Path('C:\\\\Users\\\\mirela\\\\Documents\\\\gitRepos\\\\CatWatcher\\\\cats_hsr_training_2024_06_06\\\\training')"
   ]
  },
  {
   "cell_type": "markdown",
   "metadata": {},
   "source": [
    "We have 3 cats but recently a fourth cat is showing up. Since we have only few imaes of this cat let's ignore this for now and train only for our own 3 cats."
   ]
  },
  {
   "cell_type": "markdown",
   "metadata": {},
   "source": [
    "Define parameters for loader"
   ]
  },
  {
   "cell_type": "code",
   "execution_count": 3,
   "metadata": {},
   "outputs": [],
   "source": [
    "batch_size = 32\n",
    "#Larger batches also provide a more accurate estimate of the gradient, but they require more memory.\n",
    "\n",
    "img_height = 240 # Using the actual sizes takes too long for training. Grösse halbiert.\n",
    "img_width = 320"
   ]
  },
  {
   "cell_type": "code",
   "execution_count": 4,
   "metadata": {},
   "outputs": [
    {
     "name": "stdout",
     "output_type": "stream",
     "text": [
      "Found 3540 files belonging to 3 classes.\n",
      "Using 2832 files for training.\n"
     ]
    }
   ],
   "source": [
    "train_ds = tf.keras.utils.image_dataset_from_directory(\n",
    "  data_dir,\n",
    "  validation_split=0.2,\n",
    "  subset=\"training\",\n",
    "  seed=123,\n",
    "  image_size=(img_height, img_width),\n",
    "  batch_size=batch_size)"
   ]
  },
  {
   "cell_type": "code",
   "execution_count": 5,
   "metadata": {},
   "outputs": [
    {
     "name": "stdout",
     "output_type": "stream",
     "text": [
      "Found 3540 files belonging to 3 classes.\n",
      "Using 708 files for validation.\n"
     ]
    }
   ],
   "source": [
    "val_ds = tf.keras.utils.image_dataset_from_directory(\n",
    "  data_dir,\n",
    "  validation_split=0.2,\n",
    "  subset=\"validation\",\n",
    "  seed=123,\n",
    "  image_size=(img_height, img_width),\n",
    "  batch_size=batch_size)"
   ]
  },
  {
   "cell_type": "markdown",
   "metadata": {},
   "source": [
    "By default, if label_mode is not specified, it is set to \"int\", which means the function automatically assigns an integer label to each class. Classes are usually indexed according to the alphanumeric order of the folder names. Therefore, each image is labeled with the integer representing its class index.\n",
    "\n",
    "'h' -> 0\n",
    "\n",
    "'o' -> 1\n",
    "\n",
    "'r' -> 2\n",
    "\n",
    "'s' -> 3\n",
    "\n",
    "SparseCategoricalCrossentropy the appropriate choice for the loss function because it expects the labels to be provided as integers"
   ]
  },
  {
   "cell_type": "markdown",
   "metadata": {},
   "source": [
    "You can find the class names in the `class_names` attribute on these datasets."
   ]
  },
  {
   "cell_type": "code",
   "execution_count": 6,
   "metadata": {},
   "outputs": [
    {
     "name": "stdout",
     "output_type": "stream",
     "text": [
      "['h', 'r', 's']\n"
     ]
    }
   ],
   "source": [
    "class_names = train_ds.class_names\n",
    "print(class_names)"
   ]
  },
  {
   "cell_type": "markdown",
   "metadata": {},
   "source": [
    "## visualize the Data"
   ]
  },
  {
   "cell_type": "code",
   "execution_count": null,
   "metadata": {},
   "outputs": [],
   "source": [
    "plt.figure(figsize=(10, 10))\n",
    "for images, labels in train_ds.take(1):\n",
    "  for i in range(9):\n",
    "    ax = plt.subplot(3, 3, i + 1)\n",
    "    plt.imshow(images[i].numpy().astype(\"uint8\"))\n",
    "    plt.title(class_names[labels[i]])\n",
    "    plt.axis(\"off\")"
   ]
  },
  {
   "cell_type": "code",
   "execution_count": null,
   "metadata": {},
   "outputs": [],
   "source": [
    "for image_batch, labels_batch in train_ds:\n",
    "  print(image_batch.shape)\n",
    "  print(labels_batch.shape)\n",
    "  break"
   ]
  },
  {
   "cell_type": "markdown",
   "metadata": {},
   "source": [
    "An image can be represented as a 3-D tensor. For a color image, the dimensions might correspond to height, width, and color channels (RGB). The `image_batch` is a tensor of the shape `(32, 480, 640, 3)`. This is a batch of 32 images of shape `480x640x3` (the last dimension refers to color channels RGB). The `label_batch` is a tensor of the shape `(32,)`, these are corresponding labels to the 32 images.\n",
    "\n",
    "You can call `.numpy()` on either of these tensors to convert them to a `numpy.ndarray`."
   ]
  },
  {
   "cell_type": "markdown",
   "metadata": {},
   "source": [
    "## Configure the dataset for performance\n",
    "\n",
    "Let's make sure to use buffered prefetching so you can yield data from disk without having I/O become blocking. These are two important methods you should use when loading data:\n",
    "\n",
    "- `Dataset.cache` keeps the images in memory after they're loaded off disk during the first epoch. This will ensure the dataset does not become a bottleneck while training your model. If your dataset is too large to fit into memory, you can also use this method to create a performant on-disk cache.\n",
    "- `Dataset.prefetch` overlaps data preprocessing and model execution while training.\n",
    "\n",
    "Interested readers can learn more about both methods, as well as how to cache data to disk in the *Prefetching* section of the [Better performance with the tf.data API](../../guide/data_performance.ipynb) guide."
   ]
  },
  {
   "cell_type": "code",
   "execution_count": 7,
   "metadata": {},
   "outputs": [],
   "source": [
    "AUTOTUNE = tf.data.AUTOTUNE\n",
    "\n",
    "train_ds = train_ds.cache().shuffle(1000).prefetch(buffer_size=AUTOTUNE)\n",
    "val_ds = val_ds.cache().prefetch(buffer_size=AUTOTUNE)"
   ]
  },
  {
   "cell_type": "markdown",
   "metadata": {},
   "source": [
    "## Standardize the Data"
   ]
  },
  {
   "cell_type": "markdown",
   "metadata": {},
   "source": [
    "The RGB channel values are in the `[0, 255]` range. This is not ideal for a neural network; in general you should seek to make your input values small.\n",
    "\n",
    "Here, you will standardize values to be in the `[0, 1]` range by using `tf.keras.layers.Rescaling`:"
   ]
  },
  {
   "cell_type": "code",
   "execution_count": null,
   "metadata": {},
   "outputs": [],
   "source": [
    "# not neccessary if it is included as the first layer in the model\n",
    "# normalization_layer = tf.keras.layers.Rescaling(1./255)"
   ]
  },
  {
   "cell_type": "markdown",
   "metadata": {},
   "source": [
    "There are two ways to use this layer. You can apply it to the dataset by calling `Dataset.map`:"
   ]
  },
  {
   "cell_type": "code",
   "execution_count": null,
   "metadata": {},
   "outputs": [],
   "source": [
    "'''\n",
    "normalized_ds = train_ds.map(lambda x, y: (normalization_layer(x), y))\n",
    "image_batch, labels_batch = next(iter(normalized_ds))\n",
    "first_image = image_batch[0]\n",
    "# Notice the pixel values are now in `[0,1]`.\n",
    "print(np.min(first_image), np.max(first_image))\n",
    "'''"
   ]
  },
  {
   "cell_type": "markdown",
   "metadata": {},
   "source": [
    "Or, you can include the layer inside your model definition to simplify deployment. Use the second approach here."
   ]
  },
  {
   "cell_type": "markdown",
   "metadata": {},
   "source": [
    "# A basic Keras model"
   ]
  },
  {
   "cell_type": "markdown",
   "metadata": {},
   "source": [
    "The `softmax` function is particularly suited for multi-class classification problems where each class is mutually exclusive.\n",
    "\n",
    "When using `softmax`, set `from_logits=False`\n",
    "\n",
    "When not using `softmax` (last layer outputs raw scores), set `from_logits=True` "
   ]
  },
  {
   "cell_type": "markdown",
   "metadata": {},
   "source": [
    "### Create the model"
   ]
  },
  {
   "cell_type": "markdown",
   "metadata": {},
   "source": [
    "The [Sequential](https://www.tensorflow.org/guide/keras/sequential_model) model consists of three convolution blocks (`tf.keras.layers.Conv2D`) with a max pooling layer (`tf.keras.layers.MaxPooling2D`) in each of them. There's a fully-connected layer (`tf.keras.layers.Dense`) with 128 units on top of it that is activated by a ReLU activation function (`'relu'`). This model has not been tuned in any way—the goal is to show you the mechanics using the datasets you just created. To learn more about image classification, visit the [Image classification](../images/classification.ipynb) tutorial."
   ]
  },
  {
   "cell_type": "code",
   "execution_count": null,
   "metadata": {},
   "outputs": [],
   "source": [
    "num_classes = len(class_names)\n",
    "print(\"Number of classes:\", num_classes)\n",
    "\n",
    "model = Sequential([\n",
    "  layers.Rescaling(1./255, input_shape=(img_height, img_width, 3)),\n",
    "  layers.Conv2D(16, 3, padding='same', activation='relu'),\n",
    "  layers.MaxPooling2D(),\n",
    "  layers.Conv2D(32, 3, padding='same', activation='relu'),\n",
    "  layers.MaxPooling2D(),\n",
    "  layers.Flatten(),\n",
    "  layers.Dense(32, activation='relu', kernel_regularizer=l2(0.01)),\n",
    "  layers.Dense(num_classes, activation='softmax') # Using softmax for probability output\n",
    "])"
   ]
  },
  {
   "cell_type": "markdown",
   "metadata": {},
   "source": [
    "Padding = same\n",
    "\n",
    "Enhanced Edge Learning: In the context of cat images, distinguishing features such as the tips of ears, whiskers, or patterns on the fur near the edges could be crucial for accurate classification. Padding ensures that convolutions applied to the edges of an image don't shrink the spatial dimension, thus better preserving the information at the edges.\n",
    "\n",
    "Consider a scenario where your images of cats vary slightly in where the cats are positioned within the image frame. Without appropriate padding, important features at the edges might get progressively omitted in deeper layers, potentially leading to poorer model performance, especially if those edge features are critical for distinguishing between similar cat breeds."
   ]
  },
  {
   "cell_type": "markdown",
   "metadata": {},
   "source": [
    "### Compile the model"
   ]
  },
  {
   "cell_type": "markdown",
   "metadata": {},
   "source": [
    "Choose the `tf.keras.optimizers.Adam` optimizer and `tf.keras.losses.SparseCategoricalCrossentropy` loss function. To view training and validation accuracy for each training epoch, pass the `metrics` argument to `Model.compile`."
   ]
  },
  {
   "cell_type": "code",
   "execution_count": null,
   "metadata": {},
   "outputs": [],
   "source": [
    "# set from_logits=True if the model does not include a softmax activation\n",
    "model.compile(\n",
    "  optimizer='adam',\n",
    "  loss=tf.keras.losses.SparseCategoricalCrossentropy(from_logits=False),\n",
    "  metrics=['accuracy'])"
   ]
  },
  {
   "cell_type": "markdown",
   "metadata": {},
   "source": [
    "When using `from_logits=True` the last layer should not apply softmax (it outputs raw scores)\n",
    "When using `from_logits=False`, the last layer should apply softmax to output probabilities."
   ]
  },
  {
   "cell_type": "code",
   "execution_count": null,
   "metadata": {},
   "outputs": [],
   "source": [
    "model.summary()"
   ]
  },
  {
   "cell_type": "markdown",
   "metadata": {},
   "source": [
    "### Train model"
   ]
  },
  {
   "cell_type": "code",
   "execution_count": null,
   "metadata": {},
   "outputs": [],
   "source": [
    "epochs = 30\n",
    "\n",
    "history = model.fit(\n",
    "  train_ds,\n",
    "  validation_data=val_ds,\n",
    "  epochs=epochs\n",
    ")"
   ]
  },
  {
   "cell_type": "markdown",
   "metadata": {},
   "source": [
    "## Visualize training results"
   ]
  },
  {
   "cell_type": "code",
   "execution_count": null,
   "metadata": {},
   "outputs": [],
   "source": [
    "acc = history.history['accuracy']\n",
    "val_acc = history.history['val_accuracy']\n",
    "\n",
    "loss = history.history['loss']\n",
    "val_loss = history.history['val_loss']\n",
    "\n",
    "epochs_range = range(epochs)\n",
    "\n",
    "plt.figure(figsize=(8, 8))\n",
    "plt.subplot(1, 2, 1)\n",
    "plt.plot(epochs_range, acc, label='Training Accuracy')\n",
    "plt.plot(epochs_range, val_acc, label='Validation Accuracy')\n",
    "plt.legend(loc='lower right')\n",
    "plt.title('Training and Validation Accuracy')\n",
    "\n",
    "plt.subplot(1, 2, 2)\n",
    "plt.plot(epochs_range, loss, label='Training Loss')\n",
    "plt.plot(epochs_range, val_loss, label='Validation Loss')\n",
    "plt.legend(loc='upper right')\n",
    "plt.title('Training and Validation Loss')\n",
    "plt.show()"
   ]
  },
  {
   "cell_type": "markdown",
   "metadata": {},
   "source": [
    "Total overfit! The plots show that training accuracy and validation accuracy are off by large margins."
   ]
  },
  {
   "cell_type": "markdown",
   "metadata": {},
   "source": [
    "## Try on example data"
   ]
  },
  {
   "cell_type": "code",
   "execution_count": null,
   "metadata": {},
   "outputs": [],
   "source": [
    "# Directory containing your test images\n",
    "directory = 'C:\\\\Users\\\\mirela\\\\Documents\\\\gitRepos\\\\CatWatcher\\\\examples\\\\test'\n",
    "\n",
    "# Load class names\n",
    "class_names = ['h', 'r', 's']  # This should be the same as `train_ds.class_names`\n",
    "\n",
    "# Iterate over each image in the directory\n",
    "for filename in os.listdir(directory):\n",
    "    if filename.endswith(\".jpg\"):  # check for image files\n",
    "        # Load the image\n",
    "        img_path = os.path.join(directory, filename)\n",
    "        img = Image.open(img_path)#.convert('RGB')\n",
    "\n",
    "        # Convert image to array (no need to normalize)\n",
    "        img_array = np.array(img)\n",
    "        img_array = np.expand_dims(img_array, axis=0)  # model expects batch of images\n",
    "\n",
    "        # Predict the class\n",
    "        predictions = model.predict(img_array)\n",
    "        predicted_class = np.argmax(predictions, axis=1)  # get the class index\n",
    "\n",
    "        # Print the filename and predicted class name\n",
    "        print(f\"{filename}: Class {class_names[predicted_class[0]]}\")\n",
    "\n",
    "    else:\n",
    "        continue"
   ]
  },
  {
   "cell_type": "markdown",
   "metadata": {},
   "source": [
    "Results are not accurate at all. The class r is never assigned. This could be because the model is overfitting and because the class r is underrepresented. "
   ]
  },
  {
   "cell_type": "markdown",
   "metadata": {},
   "source": [
    "# Adding Dropout Layer"
   ]
  },
  {
   "cell_type": "markdown",
   "metadata": {},
   "source": [
    "`CategoricalAccuracy` vs `SparseCategoricalAccuracy`:\n",
    "\n",
    "If labels are integer-encoded (like 0, 1, 2, 3 for four classes), use `SparseCategoricalAccuracy` and `SparseCategoricalCrossentropy`.\n",
    "If labels are one-hot encoded (like [1, 0, 0, 0] for class 0), then use `CategoricalAccuracy` and `CategoricalCrossentropy`"
   ]
  },
  {
   "cell_type": "code",
   "execution_count": null,
   "metadata": {},
   "outputs": [],
   "source": [
    "num_classes = len(class_names)\n",
    "print(\"Number of classes:\", num_classes)\n",
    "\n",
    "model = Sequential([\n",
    "  layers.Rescaling(1./255, input_shape=(img_height, img_width, 3)),\n",
    "  layers.Conv2D(16, 3, padding='same', activation='relu'),\n",
    "  layers.MaxPooling2D(),\n",
    "  layers.Dropout(0.2),  # Dropout after pooling\n",
    "  layers.Conv2D(32, 3, padding='same', activation='relu'),\n",
    "  layers.MaxPooling2D(),\n",
    "  layers.Dropout(0.2),\n",
    "  layers.Flatten(),\n",
    "  layers.Dense(32, activation='relu', kernel_regularizer=l2(0.01)),\n",
    "  layers.Dropout(0.5),  # Higher dropout before the final layers\n",
    "  layers.Dense(num_classes, activation='softmax') # Using softmax for probability output\n",
    "])\n",
    "\n",
    "'''\n",
    "model = Sequential([\n",
    "  layers.Rescaling(1./255,input_shape=(img_height, img_width, 3)),\n",
    "  layers.Conv2D(16, 3, padding='same', activation='relu'),\n",
    "  layers.MaxPooling2D(),\n",
    "  layers.Conv2D(32, 3, padding='same', activation='relu'),\n",
    "  layers.MaxPooling2D(),\n",
    "  layers.Conv2D(64, 3, padding='same', activation='relu'),\n",
    "  layers.MaxPooling2D(),\n",
    "  layers.Dropout(0.2),\n",
    "  layers.Flatten(),\n",
    "  layers.Dense(128, activation='relu'),\n",
    "  layers.Dense(num_classes, name=\"outputs\", activation='softmax')\n",
    "])\n",
    "'''"
   ]
  },
  {
   "cell_type": "markdown",
   "metadata": {},
   "source": [
    "Input Layer: Takes in your images, which should be formatted to the expected dimensions (height x width x channels). The input images are also normalized or scaled, often to a range between 0 and 1.\n",
    "\n",
    "Convolutional Layers (Conv2D): These layers apply filters to the input images to create feature maps. They extract important features from the images, such as edges, textures, or more complex patterns in deeper layers.\n",
    "\n",
    "Pooling Layers (MaxPooling2D): Reduce the spatial dimensions (width, height) of the input volume for the next convolutional layer. They help make the detection of features somewhat invariant to scale and orientation changes.\n",
    "\n",
    "Dropout Layers: Randomly drop units (and their connections) during training time to prevent overfitting by providing a form of regularization.\n",
    "\n",
    "Flatten Layer: Converts the 2D feature maps into a 1D feature vector. Necessary to transition from the convolutional layers to fully connected layers.\n",
    "\n",
    "Dense Layers: Fully connected layers that learn non-linear combinations of the high-level features extracted by the convolutional layers.\n",
    "\n",
    "Output Layer: A dense layer with a softmax activation function that outputs the probability distribution across the classes."
   ]
  },
  {
   "cell_type": "code",
   "execution_count": null,
   "metadata": {},
   "outputs": [],
   "source": [
    "model.compile(\n",
    "  optimizer='adam',\n",
    "  loss=tf.keras.losses.SparseCategoricalCrossentropy(from_logits=False), # Use 'sparse_categorical_crossentropy' if labels are integers\n",
    "  metrics='accuracy')"
   ]
  },
  {
   "cell_type": "code",
   "execution_count": null,
   "metadata": {},
   "outputs": [],
   "source": [
    "# Callbacks\n",
    "early_stopping = EarlyStopping(monitor='val_loss', patience=10, restore_best_weights=True)\n",
    "model_checkpoint = ModelCheckpoint('best_model.h5', save_best_only=True, monitor='val_loss')\n",
    "reduce_lr = ReduceLROnPlateau(monitor='val_loss', factor=0.5, patience=5, min_lr=0.00001)"
   ]
  },
  {
   "cell_type": "code",
   "execution_count": null,
   "metadata": {},
   "outputs": [],
   "source": [
    "model.summary()"
   ]
  },
  {
   "cell_type": "code",
   "execution_count": null,
   "metadata": {},
   "outputs": [],
   "source": [
    "epochs = 200\n",
    "history = model.fit(\n",
    "  train_ds,\n",
    "  validation_data=val_ds,\n",
    "  epochs=epochs,\n",
    "  callbacks=[early_stopping, model_checkpoint, reduce_lr]\n",
    ")"
   ]
  },
  {
   "cell_type": "code",
   "execution_count": null,
   "metadata": {},
   "outputs": [],
   "source": [
    "acc = history.history['accuracy']\n",
    "val_acc = history.history['val_accuracy']\n",
    "\n",
    "loss = history.history['loss']\n",
    "val_loss = history.history['val_loss']\n",
    "\n",
    "epochs_range = range(171) # adjust this based on the number of epochs trained for (to avoid value error)\n",
    "\n",
    "plt.figure(figsize=(8, 8))\n",
    "plt.subplot(1, 2, 1)\n",
    "plt.plot(epochs_range, acc, label='Training Accuracy')\n",
    "plt.plot(epochs_range, val_acc, label='Validation Accuracy')\n",
    "plt.legend(loc='lower right')\n",
    "plt.title('Training and Validation Accuracy')\n",
    "\n",
    "plt.subplot(1, 2, 2)\n",
    "plt.plot(epochs_range, loss, label='Training Loss')\n",
    "plt.plot(epochs_range, val_loss, label='Validation Loss')\n",
    "plt.legend(loc='upper right')\n",
    "plt.title('Training and Validation Loss')\n",
    "plt.show()"
   ]
  },
  {
   "cell_type": "markdown",
   "metadata": {},
   "source": [
    "## Test on Example data"
   ]
  },
  {
   "cell_type": "code",
   "execution_count": null,
   "metadata": {},
   "outputs": [],
   "source": [
    "# Directory containing your test images\n",
    "directory = 'C:\\\\Users\\\\mirela\\\\Documents\\\\gitRepos\\\\CatWatcher\\\\examples\\\\test'\n",
    "\n",
    "# Load class names\n",
    "class_names = ['h', 'r', 's']  # This should be the same as `train_ds.class_names`\n",
    "\n",
    "# Iterate over each image in the directory\n",
    "for filename in os.listdir(directory):\n",
    "    if filename.endswith(\".jpg\"):  # check for image files\n",
    "        # Load the image\n",
    "        img_path = os.path.join(directory, filename)\n",
    "        img = Image.open(img_path)#.convert('RGB')\n",
    "\n",
    "        # Resize the image to match the input size expected by the model\n",
    "        img = img.resize((img_width, img_height))\n",
    "\n",
    "        # Convert image to array (no need to normalize)\n",
    "        img_array = np.array(img)\n",
    "        img_array = np.expand_dims(img_array, axis=0)  # model expects batch of images\n",
    "\n",
    "        # Predict the class\n",
    "        predictions = model.predict(img_array)\n",
    "        predicted_class = np.argmax(predictions, axis=1)  # get the class index\n",
    "\n",
    "        # Print the filename and predicted class name\n",
    "        print(f\"{filename}: Class {class_names[predicted_class[0]]}\")\n",
    "\n",
    "    else:\n",
    "        continue"
   ]
  },
  {
   "cell_type": "markdown",
   "metadata": {},
   "source": [
    "It is already better, as the r class is considered at least. Accuracy is not that good, though. Together with inspecting the low training accuracy compared to the higher validation accuracy, I think that the model is underfitting. Let's add some more layers to the model..."
   ]
  },
  {
   "cell_type": "markdown",
   "metadata": {},
   "source": [
    "# Add more Convolutional Layers"
   ]
  },
  {
   "cell_type": "code",
   "execution_count": null,
   "metadata": {},
   "outputs": [],
   "source": [
    "num_classes = len(class_names)\n",
    "print(\"Number of classes:\", num_classes)\n",
    "\n",
    "model = Sequential([\n",
    "    layers.Rescaling(1./255, input_shape=(img_height, img_width, 3)),\n",
    "    layers.Conv2D(32, 3, padding='same', activation='relu'),\n",
    "    layers.MaxPooling2D(),\n",
    "    layers.Dropout(0.2),\n",
    "    layers.Conv2D(64, 3, padding='same', activation='relu'),\n",
    "    layers.MaxPooling2D(),\n",
    "    layers.Dropout(0.2),\n",
    "    layers.Conv2D(128, 3, padding='same', activation='relu'),\n",
    "    layers.MaxPooling2D(),\n",
    "    layers.Dropout(0.2),\n",
    "    layers.Flatten(),\n",
    "    layers.Dense(64, activation='relu', kernel_regularizer=l2(0.01)),\n",
    "    layers.Dropout(0.5),\n",
    "    layers.Dense(num_classes, activation='softmax')\n",
    "])\n"
   ]
  },
  {
   "cell_type": "code",
   "execution_count": null,
   "metadata": {},
   "outputs": [],
   "source": [
    "model.compile(\n",
    "  optimizer='adam',\n",
    "  loss=tf.keras.losses.SparseCategoricalCrossentropy(from_logits=False), # Use 'sparse_categorical_crossentropy' if labels are integers\n",
    "  metrics='accuracy')\n",
    "\n",
    "# Callbacks\n",
    "early_stopping = EarlyStopping(monitor='val_loss', patience=10, restore_best_weights=True)\n",
    "model_checkpoint = ModelCheckpoint('best_model.h5', save_best_only=True, monitor='val_loss')\n",
    "reduce_lr = ReduceLROnPlateau(monitor='val_loss', factor=0.5, patience=5, min_lr=0.00001)\n",
    "\n",
    "model.summary()"
   ]
  },
  {
   "cell_type": "code",
   "execution_count": null,
   "metadata": {},
   "outputs": [],
   "source": [
    "epochs = 500\n",
    "history = model.fit(\n",
    "  train_ds,\n",
    "  validation_data=val_ds,\n",
    "  epochs=epochs,\n",
    "  callbacks=[early_stopping, model_checkpoint, reduce_lr]\n",
    ")"
   ]
  },
  {
   "cell_type": "code",
   "execution_count": null,
   "metadata": {},
   "outputs": [],
   "source": [
    "acc = history.history['accuracy']\n",
    "val_acc = history.history['val_accuracy']\n",
    "\n",
    "loss = history.history['loss']\n",
    "val_loss = history.history['val_loss']\n",
    "\n",
    "epochs_range = range(68) # adjust this based on the number of epochs trained for (to avoid value error)\n",
    "\n",
    "plt.figure(figsize=(8, 8))\n",
    "plt.subplot(1, 2, 1)\n",
    "plt.plot(epochs_range, acc, label='Training Accuracy')\n",
    "plt.plot(epochs_range, val_acc, label='Validation Accuracy')\n",
    "plt.legend(loc='lower right')\n",
    "plt.title('Training and Validation Accuracy')\n",
    "\n",
    "plt.subplot(1, 2, 2)\n",
    "plt.plot(epochs_range, loss, label='Training Loss')\n",
    "plt.plot(epochs_range, val_loss, label='Validation Loss')\n",
    "plt.legend(loc='upper right')\n",
    "plt.title('Training and Validation Loss')\n",
    "plt.show()"
   ]
  },
  {
   "cell_type": "markdown",
   "metadata": {},
   "source": [
    "## Test on example data"
   ]
  },
  {
   "cell_type": "code",
   "execution_count": null,
   "metadata": {},
   "outputs": [],
   "source": [
    "# Directory containing your test images\n",
    "directory = 'C:\\\\Users\\\\mirela\\\\Documents\\\\gitRepos\\\\CatWatcher\\\\examples\\\\test'\n",
    "\n",
    "# Load class names\n",
    "class_names = ['h', 'r', 's']  # This should be the same as `train_ds.class_names`\n",
    "\n",
    "# Iterate over each image in the directory\n",
    "for filename in os.listdir(directory):\n",
    "    if filename.endswith(\".jpg\"):  # check for image files\n",
    "        # Load the image\n",
    "        img_path = os.path.join(directory, filename)\n",
    "        img = Image.open(img_path)#.convert('RGB')\n",
    "\n",
    "        # Resize the image to match the input size expected by the model\n",
    "        img = img.resize((img_width, img_height))\n",
    "\n",
    "        # Convert image to array (no need to normalize)\n",
    "        img_array = np.array(img)\n",
    "        img_array = np.expand_dims(img_array, axis=0)  # model expects batch of images\n",
    "\n",
    "        # Predict the class\n",
    "        predictions = model.predict(img_array)\n",
    "        predicted_class = np.argmax(predictions, axis=1)  # get the class index\n",
    "\n",
    "        # Print the filename and predicted class name\n",
    "        print(f\"{filename}: Class {class_names[predicted_class[0]]}\")\n",
    "\n",
    "    else:\n",
    "        continue"
   ]
  },
  {
   "cell_type": "markdown",
   "metadata": {},
   "source": [
    "Results hare still not overwhelmingly accurate. The training and validation accuracy curves do not look bad, though. It seems that the underrepresented categorey still makes problems. "
   ]
  },
  {
   "cell_type": "markdown",
   "metadata": {},
   "source": [
    "# Add Batch Normalization"
   ]
  },
  {
   "cell_type": "code",
   "execution_count": 8,
   "metadata": {},
   "outputs": [
    {
     "name": "stdout",
     "output_type": "stream",
     "text": [
      "Number of classes: 3\n"
     ]
    }
   ],
   "source": [
    "num_classes = len(class_names)\n",
    "print(\"Number of classes:\", num_classes)\n",
    "\n",
    "# filter size and pool_size are set to 3x3 and 2x2 respectively (may be the default anyway)\n",
    "model = Sequential([\n",
    "    layers.Rescaling(1./255, input_shape=(img_height, img_width, 3)),\n",
    "    layers.Conv2D(32, (3, 3), padding='same', activation='relu'),\n",
    "    layers.BatchNormalization(),\n",
    "    layers.MaxPooling2D(2, 2),\n",
    "    layers.Dropout(0.2),\n",
    "    layers.Conv2D(64, (3, 3), padding='same', activation='relu'),\n",
    "    layers.BatchNormalization(),\n",
    "    layers.MaxPooling2D(2, 2),\n",
    "    layers.Dropout(0.2),\n",
    "    layers.Conv2D(128, (3, 3), padding='same', activation='relu'),\n",
    "    layers.BatchNormalization(),\n",
    "    layers.MaxPooling2D(2, 2),\n",
    "    layers.Dropout(0.2),\n",
    "    layers.Flatten(),\n",
    "    layers.Dense(64, activation='relu', kernel_regularizer=l2(0.01)),\n",
    "    layers.BatchNormalization(),\n",
    "    layers.Dropout(0.5),\n",
    "    layers.Dense(num_classes, activation='softmax')\n",
    "])"
   ]
  },
  {
   "cell_type": "code",
   "execution_count": 9,
   "metadata": {},
   "outputs": [
    {
     "name": "stdout",
     "output_type": "stream",
     "text": [
      "Model: \"sequential\"\n",
      "_________________________________________________________________\n",
      " Layer (type)                Output Shape              Param #   \n",
      "=================================================================\n",
      " rescaling (Rescaling)       (None, 240, 320, 3)       0         \n",
      "                                                                 \n",
      " conv2d (Conv2D)             (None, 240, 320, 32)      896       \n",
      "                                                                 \n",
      " batch_normalization (BatchN  (None, 240, 320, 32)     128       \n",
      " ormalization)                                                   \n",
      "                                                                 \n",
      " max_pooling2d (MaxPooling2D  (None, 120, 160, 32)     0         \n",
      " )                                                               \n",
      "                                                                 \n",
      " dropout (Dropout)           (None, 120, 160, 32)      0         \n",
      "                                                                 \n",
      " conv2d_1 (Conv2D)           (None, 120, 160, 64)      18496     \n",
      "                                                                 \n",
      " batch_normalization_1 (Batc  (None, 120, 160, 64)     256       \n",
      " hNormalization)                                                 \n",
      "                                                                 \n",
      " max_pooling2d_1 (MaxPooling  (None, 60, 80, 64)       0         \n",
      " 2D)                                                             \n",
      "                                                                 \n",
      " dropout_1 (Dropout)         (None, 60, 80, 64)        0         \n",
      "                                                                 \n",
      " conv2d_2 (Conv2D)           (None, 60, 80, 128)       73856     \n",
      "                                                                 \n",
      " batch_normalization_2 (Batc  (None, 60, 80, 128)      512       \n",
      " hNormalization)                                                 \n",
      "                                                                 \n",
      " max_pooling2d_2 (MaxPooling  (None, 30, 40, 128)      0         \n",
      " 2D)                                                             \n",
      "                                                                 \n",
      " dropout_2 (Dropout)         (None, 30, 40, 128)       0         \n",
      "                                                                 \n",
      " flatten (Flatten)           (None, 153600)            0         \n",
      "                                                                 \n",
      " dense (Dense)               (None, 64)                9830464   \n",
      "                                                                 \n",
      " batch_normalization_3 (Batc  (None, 64)               256       \n",
      " hNormalization)                                                 \n",
      "                                                                 \n",
      " dropout_3 (Dropout)         (None, 64)                0         \n",
      "                                                                 \n",
      " dense_1 (Dense)             (None, 3)                 195       \n",
      "                                                                 \n",
      "=================================================================\n",
      "Total params: 9,925,059\n",
      "Trainable params: 9,924,483\n",
      "Non-trainable params: 576\n",
      "_________________________________________________________________\n"
     ]
    }
   ],
   "source": [
    "model.compile(\n",
    "  optimizer='adam',\n",
    "  loss=tf.keras.losses.SparseCategoricalCrossentropy(from_logits=False), # Use 'sparse_categorical_crossentropy' if labels are integers\n",
    "  metrics='accuracy')\n",
    "\n",
    "# Callbacks\n",
    "early_stopping = EarlyStopping(monitor='val_loss', patience=10, restore_best_weights=True)\n",
    "model_checkpoint = ModelCheckpoint('best_model.h5', save_best_only=True, monitor='val_loss')\n",
    "reduce_lr = ReduceLROnPlateau(monitor='val_loss', factor=0.5, patience=5, min_lr=0.00001)\n",
    "\n",
    "model.summary()"
   ]
  },
  {
   "cell_type": "code",
   "execution_count": 10,
   "metadata": {},
   "outputs": [
    {
     "name": "stdout",
     "output_type": "stream",
     "text": [
      "Epoch 1/500\n",
      "89/89 [==============================] - 8s 47ms/step - loss: 3.5450 - accuracy: 0.6529 - val_loss: 11.5685 - val_accuracy: 0.4308 - lr: 0.0010\n",
      "Epoch 2/500\n",
      "89/89 [==============================] - 4s 41ms/step - loss: 2.0480 - accuracy: 0.7341 - val_loss: 3.0147 - val_accuracy: 0.6441 - lr: 0.0010\n",
      "Epoch 3/500\n",
      "89/89 [==============================] - 4s 41ms/step - loss: 1.7175 - accuracy: 0.7461 - val_loss: 3.0139 - val_accuracy: 0.3715 - lr: 0.0010\n",
      "Epoch 4/500\n",
      "89/89 [==============================] - 4s 41ms/step - loss: 1.7529 - accuracy: 0.7528 - val_loss: 2.4795 - val_accuracy: 0.4477 - lr: 0.0010\n",
      "Epoch 5/500\n",
      "89/89 [==============================] - 4s 40ms/step - loss: 1.5093 - accuracy: 0.7680 - val_loss: 2.2616 - val_accuracy: 0.4534 - lr: 0.0010\n",
      "Epoch 6/500\n",
      "89/89 [==============================] - 4s 41ms/step - loss: 1.6226 - accuracy: 0.7768 - val_loss: 1.8903 - val_accuracy: 0.5819 - lr: 0.0010\n",
      "Epoch 7/500\n",
      "89/89 [==============================] - 4s 41ms/step - loss: 1.4019 - accuracy: 0.7917 - val_loss: 1.7046 - val_accuracy: 0.5819 - lr: 0.0010\n",
      "Epoch 8/500\n",
      "89/89 [==============================] - 3s 39ms/step - loss: 1.2094 - accuracy: 0.8100 - val_loss: 2.3666 - val_accuracy: 0.4308 - lr: 0.0010\n",
      "Epoch 9/500\n",
      "89/89 [==============================] - 4s 41ms/step - loss: 1.2759 - accuracy: 0.8072 - val_loss: 1.5271 - val_accuracy: 0.7472 - lr: 0.0010\n",
      "Epoch 10/500\n",
      "89/89 [==============================] - 4s 41ms/step - loss: 1.1959 - accuracy: 0.8231 - val_loss: 1.3551 - val_accuracy: 0.6808 - lr: 0.0010\n",
      "Epoch 11/500\n",
      "89/89 [==============================] - 3s 39ms/step - loss: 1.3800 - accuracy: 0.8294 - val_loss: 1.9861 - val_accuracy: 0.6751 - lr: 0.0010\n",
      "Epoch 12/500\n",
      "89/89 [==============================] - 3s 39ms/step - loss: 1.4854 - accuracy: 0.8453 - val_loss: 1.8099 - val_accuracy: 0.7090 - lr: 0.0010\n",
      "Epoch 13/500\n",
      "89/89 [==============================] - 3s 39ms/step - loss: 1.3856 - accuracy: 0.8655 - val_loss: 1.8318 - val_accuracy: 0.6328 - lr: 0.0010\n",
      "Epoch 14/500\n",
      "89/89 [==============================] - 3s 39ms/step - loss: 1.3301 - accuracy: 0.8754 - val_loss: 1.4279 - val_accuracy: 0.8686 - lr: 0.0010\n",
      "Epoch 15/500\n",
      "89/89 [==============================] - 3s 39ms/step - loss: 1.3591 - accuracy: 0.8803 - val_loss: 1.5923 - val_accuracy: 0.8023 - lr: 0.0010\n",
      "Epoch 16/500\n",
      "89/89 [==============================] - 4s 41ms/step - loss: 1.0006 - accuracy: 0.9315 - val_loss: 0.9495 - val_accuracy: 0.8686 - lr: 5.0000e-04\n",
      "Epoch 17/500\n",
      "89/89 [==============================] - 3s 39ms/step - loss: 0.7387 - accuracy: 0.9453 - val_loss: 1.0404 - val_accuracy: 0.8051 - lr: 5.0000e-04\n",
      "Epoch 18/500\n",
      "89/89 [==============================] - 3s 39ms/step - loss: 0.7457 - accuracy: 0.9513 - val_loss: 1.2436 - val_accuracy: 0.7768 - lr: 5.0000e-04\n",
      "Epoch 19/500\n",
      "89/89 [==============================] - 3s 39ms/step - loss: 0.8145 - accuracy: 0.9509 - val_loss: 1.1676 - val_accuracy: 0.8023 - lr: 5.0000e-04\n",
      "Epoch 20/500\n",
      "89/89 [==============================] - 3s 39ms/step - loss: 0.7682 - accuracy: 0.9552 - val_loss: 1.0654 - val_accuracy: 0.8446 - lr: 5.0000e-04\n",
      "Epoch 21/500\n",
      "89/89 [==============================] - 3s 39ms/step - loss: 0.7696 - accuracy: 0.9566 - val_loss: 1.1309 - val_accuracy: 0.8927 - lr: 5.0000e-04\n",
      "Epoch 22/500\n",
      "89/89 [==============================] - 4s 41ms/step - loss: 0.7060 - accuracy: 0.9756 - val_loss: 0.7062 - val_accuracy: 0.9195 - lr: 2.5000e-04\n",
      "Epoch 23/500\n",
      "89/89 [==============================] - 4s 41ms/step - loss: 0.4430 - accuracy: 0.9876 - val_loss: 0.4850 - val_accuracy: 0.9435 - lr: 2.5000e-04\n",
      "Epoch 24/500\n",
      "89/89 [==============================] - 4s 41ms/step - loss: 0.3302 - accuracy: 0.9908 - val_loss: 0.4407 - val_accuracy: 0.9393 - lr: 2.5000e-04\n",
      "Epoch 25/500\n",
      "89/89 [==============================] - 3s 39ms/step - loss: 0.3359 - accuracy: 0.9869 - val_loss: 0.4484 - val_accuracy: 0.9562 - lr: 2.5000e-04\n",
      "Epoch 26/500\n",
      "89/89 [==============================] - 3s 39ms/step - loss: 0.3451 - accuracy: 0.9883 - val_loss: 0.5908 - val_accuracy: 0.9040 - lr: 2.5000e-04\n",
      "Epoch 27/500\n",
      "89/89 [==============================] - 3s 39ms/step - loss: 0.3551 - accuracy: 0.9859 - val_loss: 0.4941 - val_accuracy: 0.9435 - lr: 2.5000e-04\n",
      "Epoch 28/500\n",
      "89/89 [==============================] - 3s 39ms/step - loss: 0.3753 - accuracy: 0.9859 - val_loss: 0.7309 - val_accuracy: 0.8630 - lr: 2.5000e-04\n",
      "Epoch 29/500\n",
      "89/89 [==============================] - 3s 39ms/step - loss: 0.3889 - accuracy: 0.9823 - val_loss: 0.4598 - val_accuracy: 0.9506 - lr: 2.5000e-04\n",
      "Epoch 30/500\n",
      "89/89 [==============================] - 4s 41ms/step - loss: 0.3143 - accuracy: 0.9933 - val_loss: 0.3624 - val_accuracy: 0.9576 - lr: 1.2500e-04\n",
      "Epoch 31/500\n",
      "89/89 [==============================] - 4s 40ms/step - loss: 0.2242 - accuracy: 0.9968 - val_loss: 0.2911 - val_accuracy: 0.9647 - lr: 1.2500e-04\n",
      "Epoch 32/500\n",
      "89/89 [==============================] - 4s 41ms/step - loss: 0.1709 - accuracy: 0.9989 - val_loss: 0.2704 - val_accuracy: 0.9506 - lr: 1.2500e-04\n",
      "Epoch 33/500\n",
      "89/89 [==============================] - 4s 41ms/step - loss: 0.1500 - accuracy: 0.9968 - val_loss: 0.2494 - val_accuracy: 0.9605 - lr: 1.2500e-04\n",
      "Epoch 34/500\n",
      "89/89 [==============================] - 4s 41ms/step - loss: 0.1494 - accuracy: 0.9968 - val_loss: 0.2480 - val_accuracy: 0.9647 - lr: 1.2500e-04\n",
      "Epoch 35/500\n",
      "89/89 [==============================] - 3s 39ms/step - loss: 0.1709 - accuracy: 0.9958 - val_loss: 0.2539 - val_accuracy: 0.9675 - lr: 1.2500e-04\n",
      "Epoch 36/500\n",
      "89/89 [==============================] - 3s 39ms/step - loss: 0.1617 - accuracy: 0.9975 - val_loss: 0.2946 - val_accuracy: 0.9492 - lr: 1.2500e-04\n",
      "Epoch 37/500\n",
      "89/89 [==============================] - 3s 39ms/step - loss: 0.1536 - accuracy: 0.9965 - val_loss: 0.3409 - val_accuracy: 0.9322 - lr: 1.2500e-04\n",
      "Epoch 38/500\n",
      "89/89 [==============================] - 3s 39ms/step - loss: 0.1729 - accuracy: 0.9936 - val_loss: 0.2589 - val_accuracy: 0.9605 - lr: 1.2500e-04\n",
      "Epoch 39/500\n",
      "89/89 [==============================] - 3s 39ms/step - loss: 0.1755 - accuracy: 0.9965 - val_loss: 0.2577 - val_accuracy: 0.9562 - lr: 1.2500e-04\n",
      "Epoch 40/500\n",
      "89/89 [==============================] - 3s 39ms/step - loss: 0.1473 - accuracy: 0.9975 - val_loss: 0.2713 - val_accuracy: 0.9477 - lr: 6.2500e-05\n",
      "Epoch 41/500\n",
      "89/89 [==============================] - 4s 41ms/step - loss: 0.1207 - accuracy: 0.9989 - val_loss: 0.2244 - val_accuracy: 0.9605 - lr: 6.2500e-05\n",
      "Epoch 42/500\n",
      "89/89 [==============================] - 3s 39ms/step - loss: 0.0987 - accuracy: 0.9996 - val_loss: 0.2311 - val_accuracy: 0.9492 - lr: 6.2500e-05\n",
      "Epoch 43/500\n",
      "89/89 [==============================] - 4s 41ms/step - loss: 0.0833 - accuracy: 1.0000 - val_loss: 0.1775 - val_accuracy: 0.9619 - lr: 6.2500e-05\n",
      "Epoch 44/500\n",
      "89/89 [==============================] - 3s 39ms/step - loss: 0.0739 - accuracy: 0.9993 - val_loss: 0.1967 - val_accuracy: 0.9534 - lr: 6.2500e-05\n",
      "Epoch 45/500\n",
      "89/89 [==============================] - 4s 41ms/step - loss: 0.0682 - accuracy: 0.9996 - val_loss: 0.1570 - val_accuracy: 0.9661 - lr: 6.2500e-05\n",
      "Epoch 46/500\n",
      "89/89 [==============================] - 3s 39ms/step - loss: 0.0627 - accuracy: 0.9996 - val_loss: 0.1705 - val_accuracy: 0.9576 - lr: 6.2500e-05\n",
      "Epoch 47/500\n",
      "89/89 [==============================] - 4s 41ms/step - loss: 0.0616 - accuracy: 0.9993 - val_loss: 0.1455 - val_accuracy: 0.9689 - lr: 6.2500e-05\n",
      "Epoch 48/500\n",
      "89/89 [==============================] - 3s 39ms/step - loss: 0.0637 - accuracy: 0.9993 - val_loss: 0.1848 - val_accuracy: 0.9576 - lr: 6.2500e-05\n",
      "Epoch 49/500\n",
      "89/89 [==============================] - 3s 39ms/step - loss: 0.0641 - accuracy: 0.9989 - val_loss: 0.1510 - val_accuracy: 0.9703 - lr: 6.2500e-05\n",
      "Epoch 50/500\n",
      "89/89 [==============================] - 3s 39ms/step - loss: 0.0731 - accuracy: 0.9982 - val_loss: 0.1665 - val_accuracy: 0.9647 - lr: 6.2500e-05\n",
      "Epoch 51/500\n",
      "89/89 [==============================] - 3s 39ms/step - loss: 0.0757 - accuracy: 0.9982 - val_loss: 0.1834 - val_accuracy: 0.9605 - lr: 6.2500e-05\n",
      "Epoch 52/500\n",
      "89/89 [==============================] - 3s 39ms/step - loss: 0.0753 - accuracy: 0.9996 - val_loss: 0.1715 - val_accuracy: 0.9576 - lr: 6.2500e-05\n",
      "Epoch 53/500\n",
      "89/89 [==============================] - 3s 39ms/step - loss: 0.0685 - accuracy: 0.9989 - val_loss: 0.1579 - val_accuracy: 0.9661 - lr: 3.1250e-05\n",
      "Epoch 54/500\n",
      "89/89 [==============================] - 3s 39ms/step - loss: 0.0592 - accuracy: 0.9993 - val_loss: 0.1486 - val_accuracy: 0.9619 - lr: 3.1250e-05\n",
      "Epoch 55/500\n",
      "89/89 [==============================] - 4s 41ms/step - loss: 0.0522 - accuracy: 1.0000 - val_loss: 0.1437 - val_accuracy: 0.9689 - lr: 3.1250e-05\n",
      "Epoch 56/500\n",
      "89/89 [==============================] - 4s 41ms/step - loss: 0.0455 - accuracy: 1.0000 - val_loss: 0.1348 - val_accuracy: 0.9732 - lr: 3.1250e-05\n",
      "Epoch 57/500\n",
      "89/89 [==============================] - 3s 39ms/step - loss: 0.0412 - accuracy: 1.0000 - val_loss: 0.1356 - val_accuracy: 0.9661 - lr: 3.1250e-05\n",
      "Epoch 58/500\n",
      "89/89 [==============================] - 4s 41ms/step - loss: 0.0369 - accuracy: 1.0000 - val_loss: 0.1322 - val_accuracy: 0.9746 - lr: 3.1250e-05\n",
      "Epoch 59/500\n",
      "89/89 [==============================] - 3s 39ms/step - loss: 0.0333 - accuracy: 1.0000 - val_loss: 0.1447 - val_accuracy: 0.9675 - lr: 3.1250e-05\n",
      "Epoch 60/500\n",
      "89/89 [==============================] - 3s 39ms/step - loss: 0.0304 - accuracy: 1.0000 - val_loss: 0.1543 - val_accuracy: 0.9661 - lr: 3.1250e-05\n",
      "Epoch 61/500\n",
      "89/89 [==============================] - 3s 39ms/step - loss: 0.0279 - accuracy: 1.0000 - val_loss: 0.1653 - val_accuracy: 0.9576 - lr: 3.1250e-05\n",
      "Epoch 62/500\n",
      "89/89 [==============================] - 3s 39ms/step - loss: 0.0269 - accuracy: 0.9996 - val_loss: 0.1558 - val_accuracy: 0.9576 - lr: 3.1250e-05\n",
      "Epoch 63/500\n",
      "89/89 [==============================] - 3s 39ms/step - loss: 0.0272 - accuracy: 1.0000 - val_loss: 0.1605 - val_accuracy: 0.9605 - lr: 3.1250e-05\n",
      "Epoch 64/500\n",
      "89/89 [==============================] - 3s 39ms/step - loss: 0.0271 - accuracy: 0.9996 - val_loss: 0.1807 - val_accuracy: 0.9477 - lr: 1.5625e-05\n",
      "Epoch 65/500\n",
      "89/89 [==============================] - 3s 39ms/step - loss: 0.0256 - accuracy: 1.0000 - val_loss: 0.1570 - val_accuracy: 0.9647 - lr: 1.5625e-05\n",
      "Epoch 66/500\n",
      "89/89 [==============================] - 3s 39ms/step - loss: 0.0248 - accuracy: 1.0000 - val_loss: 0.1876 - val_accuracy: 0.9506 - lr: 1.5625e-05\n",
      "Epoch 67/500\n",
      "89/89 [==============================] - 3s 39ms/step - loss: 0.0230 - accuracy: 1.0000 - val_loss: 0.1943 - val_accuracy: 0.9477 - lr: 1.5625e-05\n",
      "Epoch 68/500\n",
      "89/89 [==============================] - 3s 39ms/step - loss: 0.0215 - accuracy: 1.0000 - val_loss: 0.1751 - val_accuracy: 0.9562 - lr: 1.5625e-05\n"
     ]
    }
   ],
   "source": [
    "epochs = 500\n",
    "history = model.fit(\n",
    "  train_ds,\n",
    "  validation_data=val_ds,\n",
    "  epochs=epochs,\n",
    "  callbacks=[early_stopping, model_checkpoint, reduce_lr]\n",
    ")"
   ]
  },
  {
   "cell_type": "markdown",
   "metadata": {},
   "source": [
    "over 4min training time with GPU"
   ]
  },
  {
   "cell_type": "code",
   "execution_count": 11,
   "metadata": {},
   "outputs": [
    {
     "data": {
      "image/png": "[encoded data removed]",
      "text/plain": [
       "<Figure size 800x800 with 2 Axes>"
      ]
     },
     "metadata": {},
     "output_type": "display_data"
    }
   ],
   "source": [
    "acc = history.history['accuracy']\n",
    "val_acc = history.history['val_accuracy']\n",
    "\n",
    "loss = history.history['loss']\n",
    "val_loss = history.history['val_loss']\n",
    "\n",
    "epochs_range = range(68) # adjust this based on the number of epochs trained for (to avoid value error)\n",
    "\n",
    "plt.figure(figsize=(8, 8))\n",
    "plt.subplot(1, 2, 1)\n",
    "plt.plot(epochs_range, acc, label='Training Accuracy')\n",
    "plt.plot(epochs_range, val_acc, label='Validation Accuracy')\n",
    "plt.legend(loc='lower right')\n",
    "plt.title('Training and Validation Accuracy')\n",
    "\n",
    "plt.subplot(1, 2, 2)\n",
    "plt.plot(epochs_range, loss, label='Training Loss')\n",
    "plt.plot(epochs_range, val_loss, label='Validation Loss')\n",
    "plt.legend(loc='upper right')\n",
    "plt.title('Training and Validation Loss')\n",
    "plt.show()"
   ]
  },
  {
   "cell_type": "code",
   "execution_count": 12,
   "metadata": {},
   "outputs": [
    {
     "name": "stdout",
     "output_type": "stream",
     "text": [
      "1/1 [==============================] - 0s 241ms/step\n",
      "approach_Hali.jpg: Class h\n",
      "1/1 [==============================] - 0s 12ms/step\n",
      "approach_Hali2.jpg: Class h\n",
      "1/1 [==============================] - 0s 11ms/step\n",
      "approach_Hali3.jpg: Class h\n",
      "1/1 [==============================] - 0s 12ms/step\n",
      "approach_other.jpg: Class s\n",
      "1/1 [==============================] - 0s 10ms/step\n",
      "approach_Rex.jpg: Class r\n",
      "1/1 [==============================] - 0s 12ms/step\n",
      "approach_Rex2.jpg: Class r\n",
      "1/1 [==============================] - 0s 13ms/step\n",
      "approach_Rex3.jpg: Class r\n",
      "1/1 [==============================] - 0s 10ms/step\n",
      "approach_Simba.jpg: Class s\n",
      "1/1 [==============================] - 0s 12ms/step\n",
      "approach_SimbaHali.jpg: Class r\n",
      "1/1 [==============================] - 0s 11ms/step\n",
      "noapproach_.jpg: Class r\n",
      "1/1 [==============================] - 0s 11ms/step\n",
      "noapproach_Hali.jpg: Class h\n",
      "1/1 [==============================] - 0s 12ms/step\n",
      "noapproach_Hali2.jpg: Class h\n",
      "1/1 [==============================] - 0s 11ms/step\n",
      "noapproach_Hali3.jpg: Class h\n",
      "1/1 [==============================] - 0s 10ms/step\n",
      "noapproach_Rex.jpg: Class r\n",
      "1/1 [==============================] - 0s 10ms/step\n",
      "noapproach_Simba.jpg: Class h\n",
      "1/1 [==============================] - 0s 11ms/step\n",
      "noapproach_Simba2.jpg: Class s\n"
     ]
    }
   ],
   "source": [
    "# Directory containing your test images\n",
    "directory = 'C:\\\\Users\\\\mirela\\\\Documents\\\\gitRepos\\\\CatWatcher\\\\examples\\\\test'\n",
    "\n",
    "# Load class names\n",
    "class_names = ['h', 'r', 's']  # This should be the same as `train_ds.class_names`\n",
    "\n",
    "# Iterate over each image in the directory\n",
    "for filename in os.listdir(directory):\n",
    "    if filename.endswith(\".jpg\"):  # check for image files\n",
    "        # Load the image\n",
    "        img_path = os.path.join(directory, filename)\n",
    "        img = Image.open(img_path)#.convert('RGB')\n",
    "\n",
    "        # Resize the image to match the input size expected by the model\n",
    "        img = img.resize((img_width, img_height))\n",
    "\n",
    "        # Convert image to array (no need to normalize)\n",
    "        img_array = np.array(img)\n",
    "        img_array = np.expand_dims(img_array, axis=0)  # model expects batch of images\n",
    "\n",
    "        # Predict the class\n",
    "        predictions = model.predict(img_array)\n",
    "        predicted_class = np.argmax(predictions, axis=1)  # get the class index\n",
    "\n",
    "        # Print the filename and predicted class name\n",
    "        print(f\"{filename}: Class {class_names[predicted_class[0]]}\")\n",
    "\n",
    "    else:\n",
    "        continue"
   ]
  },
  {
   "cell_type": "markdown",
   "metadata": {},
   "source": [
    "So far this is the best result. Simba once got classified as Hali and the only other errors we get are related to class r, which is the underrepresented class. Seems like we don't get around the data augmentation part..."
   ]
  },
  {
   "cell_type": "markdown",
   "metadata": {},
   "source": [
    "### test out pipeline for model inference"
   ]
  },
  {
   "cell_type": "code",
   "execution_count": 21,
   "metadata": {},
   "outputs": [
    {
     "name": "stdout",
     "output_type": "stream",
     "text": [
      "1/1 [==============================] - 0s 55ms/step\n",
      "Hali\n"
     ]
    }
   ],
   "source": [
    "import keras\n",
    "from PIL import Image # for opening images\n",
    "import numpy as np # for numerical operations\n",
    "\n",
    "#load model \"models/best_model_hsr3.h5\"\n",
    "model = keras.models.load_model(\"C:\\\\Users\\\\mirela\\\\Documents\\\\gitRepos\\\\CatWatcher\\\\models\\\\best_model_hsr3.h5\")\n",
    "\n",
    "# define image size\n",
    "img_height = 240\n",
    "img_width = 320\n",
    "\n",
    "img = Image.open(\"C:\\\\Users\\\\mirela\\\\Documents\\\\gitRepos\\\\CatWatcher\\\\examples\\\\test\\\\approach_Hali2.jpg\")\n",
    "img = img.resize((img_width, img_height))\n",
    "\n",
    "# Convert image to array (no need to normalize)\n",
    "img_array = np.array(img)\n",
    "img_array = np.expand_dims(img_array, axis=0)  # model expects batch of images\n",
    "\n",
    "# Predict the class\n",
    "predictions = model.predict(img_array)\n",
    "predicted_class = np.argmax(predictions, axis=1)  # get the class index\n",
    "\n",
    "class_names = ['h', 'r', 's']\n",
    "#print(f\"Class {class_names[predicted_class[0]]}\")\n",
    "cat = class_names[predicted_class[0]]\n",
    "if cat == 'h':\n",
    "    print(\"Hali\")\n",
    "elif cat == 'r':\n",
    "    print(\"Rexxu\")\n",
    "elif cat == 's':\n",
    "    print(\"Simbi\")\n",
    "else:\n",
    "    print(\"Unbekannte Katze\")\n"
   ]
  }
 ],
 "metadata": {
  "kernelspec": {
   "display_name": "Python 3 (ipykernel)",
   "language": "python",
   "name": "python3"
  },
  "language_info": {
   "codemirror_mode": {
    "name": "ipython",
    "version": 3
   },
   "file_extension": ".py",
   "mimetype": "text/x-python",
   "name": "python",
   "nbconvert_exporter": "python",
   "pygments_lexer": "ipython3",
   "version": "3.9.19"
  }
 },
 "nbformat": 4,
 "nbformat_minor": 2
}
